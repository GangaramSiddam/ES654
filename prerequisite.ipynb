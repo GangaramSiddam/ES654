{
  "cells": [
    {
      "cell_type": "markdown",
      "id": "0aad3caa",
      "metadata": {
        "id": "0aad3caa"
      },
      "source": [
        "# 1. How many multiplications and additions do you need to perform a matrix multiplication between a (n, k) and (k, m) matrix? Explain."
      ]
    },
    {
      "cell_type": "markdown",
      "id": "ff6e2995",
      "metadata": {
        "id": "ff6e2995"
      },
      "source": [
        "\\begin{equation}\n",
        "    \\begin{bmatrix}\n",
        "    1&2&3\\\\\n",
        "    2&3&4\n",
        "    \\end{bmatrix}\n",
        "    % \n",
        "    X\n",
        "     \\begin{bmatrix}\n",
        "    3&4&5&6\\\\\n",
        "    4&5&6&7\\\\\n",
        "    5&6&7&8\n",
        "    \\end{bmatrix}\n",
        "     =\n",
        "     \\begin{bmatrix}\n",
        "     1*3+2*4+3*5&1*4+2*5+3*6&1*5+2*6+3*7&1*6+2*7+3*8\\\\\n",
        "     2*3+3*4+4*5&2*4+3*5+4*6&2*5+3*6+4*7&2*6+3*7+4*8\n",
        "     \\end{bmatrix}\n",
        "\\end{equation}\n",
        "\n",
        "\n",
        "\n",
        "\n",
        "So, the number of multiplications required to multiply (n,k) & (k,m)  matrix are =  n$*$k$*$m\n",
        "\n",
        "the  number of additions required are = n$*$m$*$(k-1)"
      ]
    },
    {
      "cell_type": "markdown",
      "id": "918d4549",
      "metadata": {
        "id": "918d4549"
      },
      "source": [
        "# 2. Write Python code to multiply the above two matrices. Solve using list of lists and then use numpy. Compare the timing of both solutions. Which one is faster? Why?"
      ]
    },
    {
      "cell_type": "code",
      "execution_count": 2,
      "id": "5d74d02a",
      "metadata": {
        "id": "5d74d02a"
      },
      "outputs": [],
      "source": [
        "import random\n",
        "import numpy as np\n",
        "import time"
      ]
    },
    {
      "cell_type": "code",
      "execution_count": 3,
      "id": "62e7802a",
      "metadata": {
        "colab": {
          "base_uri": "https://localhost:8080/"
        },
        "id": "62e7802a",
        "outputId": "a703c901-f151-445e-a3b0-fb283d810d43"
      },
      "outputs": [
        {
          "output_type": "stream",
          "name": "stdout",
          "text": [
            "\n",
            "The execution time of list matrix multiplication is:  142925.80437660217 ms\n"
          ]
        }
      ],
      "source": [
        "start=time.time()\n",
        "n=978\n",
        "k=758\n",
        "m=525\n",
        "\n",
        "A=[[random.randint(0,100) for i in range(0,k)] for j in range(0,n)]\n",
        "B=[[random.randint(0,100) for i in range(0,m)] for j in range(0,k)]\n",
        "result=[[0 for i in range(0,m)] for j in range(0,n)]\n",
        "for i in range(0,n):\n",
        "    for j in range(0,m):\n",
        "        sum=0\n",
        "        for K in range(0,k):\n",
        "            sum += A[i][K] * B[K][j]\n",
        "        result[i][j]=sum\n",
        "\n",
        "end=time.time()\n",
        "\n",
        "print(\"\\nThe execution time of list matrix multiplication is: \", (end-start)* 10**3, \"ms\")\n"
      ]
    },
    {
      "cell_type": "code",
      "execution_count": 5,
      "id": "7e4156ee",
      "metadata": {
        "colab": {
          "base_uri": "https://localhost:8080/"
        },
        "id": "7e4156ee",
        "outputId": "c7f75464-a7ba-4926-e36a-4e4e3bef4a6c"
      },
      "outputs": [
        {
          "output_type": "stream",
          "name": "stdout",
          "text": [
            "\n",
            "The execution time of numpy matrix multiplication is:  852.0801067352295 ms\n"
          ]
        }
      ],
      "source": [
        "start=time.time()\n",
        "\n",
        "\n",
        "result = np.matmul(A,B)\n",
        "\n",
        "\n",
        "\n",
        "\n",
        "end=time.time()\n",
        "print(\"\\nThe execution time of numpy matrix multiplication is: \", (end-start)* 10**3, \"ms\")"
      ]
    },
    {
      "cell_type": "markdown",
      "id": "6b47b0cb",
      "metadata": {
        "id": "6b47b0cb"
      },
      "source": [
        "# 3. Finding the highest element in a list requires one pass of the array. Finding the second highest element requires 2 passes of the the array. Using this method, what is the time complexity of finding the median of the array? Can you suggest a better method? Can you implement both these methods in Python and compare against numpy.median routine in terms of time?"
      ]
    },
    {
      "cell_type": "code",
      "execution_count": 6,
      "id": "e35e7a48",
      "metadata": {
        "colab": {
          "base_uri": "https://localhost:8080/"
        },
        "id": "e35e7a48",
        "outputId": "94204bfa-7345-43f1-b76d-a2c7af2fa650"
      },
      "outputs": [
        {
          "output_type": "stream",
          "name": "stdout",
          "text": [
            "4.5\n",
            "\n",
            "The execution time of matrix multiplication using numpy is:  1.5528202056884766 ms\n"
          ]
        }
      ],
      "source": [
        "\n",
        "import timeit\n",
        "\n",
        "start=time.time()\n",
        "def Nmaxelements(list1, N):\n",
        "    final_list = []\n",
        "\n",
        "    for i in range(0, N):\n",
        "        max1 = 0\n",
        "\n",
        "        for j in range(len(list1)):\n",
        "            if list1[j] > max1:\n",
        "                max1 = list1[j]\n",
        "\n",
        "        list1.remove(max1)\n",
        "        final_list.append(max1)\n",
        "        \n",
        "    return final_list\n",
        "\n",
        "\n",
        "    \n",
        "\n",
        "list1 = [8,7,6,5,4,3,2,1]\n",
        "\n",
        "x=len(list1)\n",
        "if x%2!=0:\n",
        "    a=Nmaxelements(list1,int(x/2)+1)\n",
        "    print(a[-1])\n",
        "else:\n",
        "    a=Nmaxelements(list1,int(x/2)+1)\n",
        "    print((a[-1]+a[-2])/2)\n",
        "end=time.time()\n",
        "print(\"\\nThe execution time of matrix multiplication using numpy is: \", (end-start)* 10**3, \"ms\")"
      ]
    },
    {
      "cell_type": "code",
      "execution_count": 7,
      "id": "c16125d7",
      "metadata": {
        "colab": {
          "base_uri": "https://localhost:8080/"
        },
        "id": "c16125d7",
        "outputId": "a5bd63bd-0ef3-430a-9125-cb57eb360872"
      },
      "outputs": [
        {
          "output_type": "stream",
          "name": "stdout",
          "text": [
            "The execution time of the finding the median :  0.1785755157470703 ms\n"
          ]
        }
      ],
      "source": [
        "import numpy as np\n",
        "start = time.time()\n",
        "\n",
        "def median():\n",
        "    median = 0\n",
        "    array = [23,52,68,4,15,78,96,52,20]\n",
        "    array = np.sort(array,kind='merge sort')\n",
        "    if length % 2 != 0:\n",
        "        median = array[(length//2)]\n",
        "    else:\n",
        "        median = (array[((length//2)-1)] + array[(length//2)])/2\n",
        "    return median\n",
        "end = time.time()\n",
        "\n",
        "print(\"The execution time of the finding the median : \" ,(end-start)* 10**3,\"ms\")"
      ]
    },
    {
      "cell_type": "code",
      "execution_count": 8,
      "id": "5a740169",
      "metadata": {
        "colab": {
          "base_uri": "https://localhost:8080/"
        },
        "id": "5a740169",
        "outputId": "9859ff8e-7bba-4a4d-b360-39a50d9f6617"
      },
      "outputs": [
        {
          "output_type": "stream",
          "name": "stdout",
          "text": [
            "The execution time of finding median usinf numpy:  0.11157989501953125 ms\n"
          ]
        }
      ],
      "source": [
        "start = time.time()\n",
        "def median_np():\n",
        "    l1 = [23,52,68,4,15,78,96,52,20]\n",
        "    return np.median(l1)\n",
        "end = time.time()\n",
        "\n",
        "print(\"The execution time of finding median usinf numpy: \", (end-start)* 10**3 , \"ms\")"
      ]
    },
    {
      "cell_type": "markdown",
      "id": "a25a8576",
      "metadata": {
        "id": "a25a8576"
      },
      "source": [
        "# 4. What is the gradient of the following function with respect to x and y?"
      ]
    },
    {
      "cell_type": "markdown",
      "id": "4a9fa539",
      "metadata": {
        "id": "4a9fa539"
      },
      "source": [
        "![](Capture.PNG)"
      ]
    },
    {
      "cell_type": "markdown",
      "id": "5f0af2ae",
      "metadata": {
        "id": "5f0af2ae"
      },
      "source": [
        "$\\frac{\\delta f}{\\delta x} = 2xy+y^3cos(x)  $\n",
        "\n",
        "$\\frac{\\delta f}{\\delta y} = x^2+3y^2sin(x) $\n",
        "\n",
        "$\\nabla f = \\frac{\\delta f}{\\delta x} \\hat{i} + \\frac{\\delta f}{\\delta y} \\hat{j} $\n",
        "\n",
        "\n",
        "\n",
        "$\\nabla f =(2xy + y^3cos(x)) \\hat{i} + (x^2 + 3y^2sin(x))\\hat{j}$"
      ]
    },
    {
      "cell_type": "markdown",
      "id": "1d55f55b",
      "metadata": {
        "id": "1d55f55b"
      },
      "source": [
        "# 5. Use JAX to confirm the gradient evaluated by your method matches the analytical solution corresponding to a few random values of x and y"
      ]
    },
    {
      "cell_type": "code",
      "execution_count": 9,
      "id": "4c5fdc77",
      "metadata": {
        "colab": {
          "base_uri": "https://localhost:8080/"
        },
        "id": "4c5fdc77",
        "outputId": "8d57e85a-73f6-4a4e-b8e8-f5cc0f994f34"
      },
      "outputs": [
        {
          "output_type": "stream",
          "name": "stderr",
          "text": [
            "WARNING:jax._src.lib.xla_bridge:No GPU/TPU found, falling back to CPU. (Set TF_CPP_MIN_LOG_LEVEL=0 and rerun for more info.)\n"
          ]
        },
        {
          "output_type": "stream",
          "name": "stdout",
          "text": [
            "fun(pi,3.0: 29.608810424804688\n",
            "gradient using explicit gradient function : [-12.156721   9.869601]\n",
            "gradient using jax: (DeviceArray(-12.156725, dtype=float32, weak_type=True), DeviceArray(9.869605, dtype=float32, weak_type=True))\n"
          ]
        }
      ],
      "source": [
        "import jax\n",
        "def function(a,b):\n",
        "  return(a**2)*b+(a**3)*jax.numpy.sin(a)\n",
        "def fun_gradient(a,b):\n",
        "  ans = [2*a*b + (a**3) * jax.numpy.cos(a),a**2+3*(a**2)*jax.numpy.sin(a)]\n",
        "  return jax.numpy.array(ans)\n",
        "jax_gradient = jax.grad(function,(0,1))\n",
        "print(\"fun(pi,3.0: {0}\". format(function(jax.numpy.pi,3.0)))\n",
        "print(\"gradient using explicit gradient function : {0}\". format(fun_gradient(jax.numpy.pi,3.0)))\n",
        "print(\"gradient using jax: {0}\".format(jax_gradient(jax.numpy.pi,3.0)))\n"
      ]
    },
    {
      "cell_type": "code",
      "execution_count": 10,
      "id": "497fa85c",
      "metadata": {
        "colab": {
          "base_uri": "https://localhost:8080/"
        },
        "id": "497fa85c",
        "outputId": "7af0a51b-62d1-4e67-aaa4-025e7b65727d"
      },
      "outputs": [
        {
          "output_type": "stream",
          "name": "stdout",
          "text": [
            "fun(pi,4.0):39.47841262817383\n",
            "gradient using explicit gradient function: [-5.873535  9.869601]\n",
            "gradient using jax: (DeviceArray(-5.873539, dtype=float32, weak_type=True), DeviceArray(9.869605, dtype=float32, weak_type=True))\n"
          ]
        }
      ],
      "source": [
        "print(\"fun(pi,4.0):{0}\".format(function(jax.numpy.pi,4.0)))\n",
        "print(\"gradient using explicit gradient function: {0}\". format(fun_gradient(jax.numpy.pi,4.0)))\n",
        "print(\"gradient using jax: {0}\".format(jax_gradient(jax.numpy.pi,4.0)))"
      ]
    },
    {
      "cell_type": "markdown",
      "id": "f48c6ff8",
      "metadata": {
        "id": "f48c6ff8"
      },
      "source": [
        "# 6. Use sympy to confirm that you obtain the same gradient analytically."
      ]
    },
    {
      "cell_type": "code",
      "execution_count": 11,
      "id": "ada9b9b3",
      "metadata": {
        "id": "ada9b9b3"
      },
      "outputs": [],
      "source": [
        "from sympy import *\n",
        "x, y = symbols('x y')\n",
        "init_printing(use_unicode=True)\n"
      ]
    },
    {
      "cell_type": "code",
      "execution_count": 12,
      "id": "a9052c02",
      "metadata": {
        "colab": {
          "base_uri": "https://localhost:8080/",
          "height": 39
        },
        "id": "a9052c02",
        "outputId": "59f6f44a-5ff8-4c00-bdbb-4027dbc07e94"
      },
      "outputs": [
        {
          "output_type": "execute_result",
          "data": {
            "text/plain": [
              "         3       \n",
              "2⋅x⋅y + y ⋅cos(x)"
            ],
            "image/png": "[encoded data removed]",
            "text/latex": "$\\displaystyle 2 x y + y^{3} \\cos{\\left(x \\right)}$"
          },
          "metadata": {},
          "execution_count": 12
        }
      ],
      "source": [
        "diff( ((x**2)*y) + ((y**3)*sin(x)), x)"
      ]
    },
    {
      "cell_type": "code",
      "execution_count": 13,
      "id": "506f5f51",
      "metadata": {
        "colab": {
          "base_uri": "https://localhost:8080/",
          "height": 39
        },
        "id": "506f5f51",
        "outputId": "91e6c41b-8fcd-4281-d0b3-feef1785d7f4"
      },
      "outputs": [
        {
          "output_type": "execute_result",
          "data": {
            "text/plain": [
              " 2      2       \n",
              "x  + 3⋅y ⋅sin(x)"
            ],
            "image/png": "[encoded data removed]",
            "text/latex": "$\\displaystyle x^{2} + 3 y^{2} \\sin{\\left(x \\right)}$"
          },
          "metadata": {},
          "execution_count": 13
        }
      ],
      "source": [
        "diff( ((x**2)*y) + ((y**3)*sin(x)), y)"
      ]
    },
    {
      "cell_type": "markdown",
      "id": "bbfba82c",
      "metadata": {
        "id": "bbfba82c"
      },
      "source": [
        "# 7. Create a Python nested dictionary to represent hierarchical information. We want to store record of students and their marks."
      ]
    },
    {
      "cell_type": "code",
      "execution_count": 14,
      "id": "c66bb8ff",
      "metadata": {
        "colab": {
          "base_uri": "https://localhost:8080/"
        },
        "id": "c66bb8ff",
        "outputId": "b89b74ec-c3db-4f50-cd6c-5834504d676d"
      },
      "outputs": [
        {
          "output_type": "stream",
          "name": "stdout",
          "text": [
            "{'2017': {'CE': {17: {'Marks': {'English': 99, 'Maths': 86, 'Telugu': 99},\n",
            "                      'Name': 'Gangaram'},\n",
            "                 18: {'Marks': {'English': 87, 'Maths': 97, 'Telugu': 99},\n",
            "                      'Name': 'omkar'},\n",
            "                 19: {'Marks': {'English': 74, 'Maths': 99, 'Telugu': 86},\n",
            "                      'Name': 'Bhaskar'},\n",
            "                 20: {'Marks': {'English': 74, 'Maths': 87, 'Telugu': 80},\n",
            "                      'Name': 'Banti'},\n",
            "                 21: {'Marks': {'English': 86, 'Maths': 99, 'Telugu': 86},\n",
            "                      'Name': 'Ranjith'},\n",
            "                 22: {'Marks': {'English': 96, 'Maths': 89, 'Telugu': 99},\n",
            "                      'Name': 'Sanik'},\n",
            "                 23: {'Marks': {'English': 89, 'Maths': 97, 'Telugu': 99},\n",
            "                      'Name': 'Harish'},\n",
            "                 101: {'Marks': {'English': 74, 'Maths': 91, 'Telugu': 89},\n",
            "                       'Name': 'Hitesh'},\n",
            "                 102: {'Marks': {'English': 96, 'Maths': 99, 'Telugu': 97},\n",
            "                       'Name': 'Ayush'},\n",
            "                 103: {'Marks': {'English': 90, 'Maths': 91, 'Telugu': 96},\n",
            "                       'Name': 'Anant'},\n",
            "                 104: {'Marks': {'English': 89, 'Maths': 90, 'Telugu': 90},\n",
            "                       'Name': 'Shivam'},\n",
            "                 105: {'Marks': {'English': 96, 'Maths': 99, 'Telugu': 97},\n",
            "                       'Name': 'Hrishi'}},\n",
            "          'CSE': {17: {'Marks': {'English': 90, 'Maths': 90, 'Telugu': 87},\n",
            "                       'Name': 'Gangaram'},\n",
            "                  18: {'Marks': {'English': 97, 'Maths': 90, 'Telugu': 87},\n",
            "                       'Name': 'omkar'},\n",
            "                  19: {'Marks': {'English': 90, 'Maths': 99, 'Telugu': 80},\n",
            "                       'Name': 'Bhaskar'},\n",
            "                  20: {'Marks': {'English': 89, 'Maths': 97, 'Telugu': 80},\n",
            "                       'Name': 'Banti'},\n",
            "                  21: {'Marks': {'English': 91, 'Maths': 87, 'Telugu': 97},\n",
            "                       'Name': 'Ranjith'},\n",
            "                  22: {'Marks': {'English': 89, 'Maths': 86, 'Telugu': 87},\n",
            "                       'Name': 'Sanik'},\n",
            "                  23: {'Marks': {'English': 96, 'Maths': 97, 'Telugu': 97},\n",
            "                       'Name': 'Harish'},\n",
            "                  101: {'Marks': {'English': 93, 'Maths': 91, 'Telugu': 89},\n",
            "                        'Name': 'Hitesh'},\n",
            "                  102: {'Marks': {'English': 97, 'Maths': 86, 'Telugu': 87},\n",
            "                        'Name': 'Ayush'},\n",
            "                  103: {'Marks': {'English': 89, 'Maths': 87, 'Telugu': 91},\n",
            "                        'Name': 'Anant'},\n",
            "                  104: {'Marks': {'English': 74, 'Maths': 96, 'Telugu': 96},\n",
            "                        'Name': 'Shivam'},\n",
            "                  105: {'Marks': {'English': 87, 'Maths': 97, 'Telugu': 89},\n",
            "                        'Name': 'Hrishi'}},\n",
            "          'IT': {17: {'Marks': {'English': 93, 'Maths': 99, 'Telugu': 91},\n",
            "                      'Name': 'Gangaram'},\n",
            "                 18: {'Marks': {'English': 91, 'Maths': 96, 'Telugu': 86},\n",
            "                      'Name': 'omkar'},\n",
            "                 19: {'Marks': {'English': 80, 'Maths': 89, 'Telugu': 99},\n",
            "                      'Name': 'Bhaskar'},\n",
            "                 20: {'Marks': {'English': 89, 'Maths': 93, 'Telugu': 93},\n",
            "                      'Name': 'Banti'},\n",
            "                 21: {'Marks': {'English': 90, 'Maths': 96, 'Telugu': 80},\n",
            "                      'Name': 'Ranjith'},\n",
            "                 22: {'Marks': {'English': 93, 'Maths': 99, 'Telugu': 90},\n",
            "                      'Name': 'Sanik'},\n",
            "                 23: {'Marks': {'English': 93, 'Maths': 87, 'Telugu': 97},\n",
            "                      'Name': 'Harish'},\n",
            "                 101: {'Marks': {'English': 89, 'Maths': 96, 'Telugu': 97},\n",
            "                       'Name': 'Hitesh'},\n",
            "                 102: {'Marks': {'English': 91, 'Maths': 80, 'Telugu': 80},\n",
            "                       'Name': 'Ayush'},\n",
            "                 103: {'Marks': {'English': 96, 'Maths': 86, 'Telugu': 99},\n",
            "                       'Name': 'Anant'},\n",
            "                 104: {'Marks': {'English': 97, 'Maths': 86, 'Telugu': 86},\n",
            "                       'Name': 'Shivam'},\n",
            "                 105: {'Marks': {'English': 80, 'Maths': 89, 'Telugu': 90},\n",
            "                       'Name': 'Hrishi'}},\n",
            "          'MECH': {17: {'Marks': {'English': 80, 'Maths': 93, 'Telugu': 89},\n",
            "                        'Name': 'Gangaram'},\n",
            "                   18: {'Marks': {'English': 80, 'Maths': 86, 'Telugu': 87},\n",
            "                        'Name': 'omkar'},\n",
            "                   19: {'Marks': {'English': 97, 'Maths': 89, 'Telugu': 99},\n",
            "                        'Name': 'Bhaskar'},\n",
            "                   20: {'Marks': {'English': 93, 'Maths': 86, 'Telugu': 91},\n",
            "                        'Name': 'Banti'},\n",
            "                   21: {'Marks': {'English': 99, 'Maths': 99, 'Telugu': 74},\n",
            "                        'Name': 'Ranjith'},\n",
            "                   22: {'Marks': {'English': 99, 'Maths': 90, 'Telugu': 97},\n",
            "                        'Name': 'Sanik'},\n",
            "                   23: {'Marks': {'English': 86, 'Maths': 86, 'Telugu': 99},\n",
            "                        'Name': 'Harish'},\n",
            "                   101: {'Marks': {'English': 91, 'Maths': 89, 'Telugu': 93},\n",
            "                         'Name': 'Hitesh'},\n",
            "                   102: {'Marks': {'English': 99, 'Maths': 89, 'Telugu': 87},\n",
            "                         'Name': 'Ayush'},\n",
            "                   103: {'Marks': {'English': 97, 'Maths': 91, 'Telugu': 80},\n",
            "                         'Name': 'Anant'},\n",
            "                   104: {'Marks': {'English': 93, 'Maths': 97, 'Telugu': 86},\n",
            "                         'Name': 'Shivam'},\n",
            "                   105: {'Marks': {'English': 96, 'Maths': 93, 'Telugu': 91},\n",
            "                         'Name': 'Hrishi'}}},\n",
            " '2018': {'CE': {17: {'Marks': {'English': 80, 'Maths': 87, 'Telugu': 96},\n",
            "                      'Name': 'Gangaram'},\n",
            "                 18: {'Marks': {'English': 93, 'Maths': 90, 'Telugu': 87},\n",
            "                      'Name': 'omkar'},\n",
            "                 19: {'Marks': {'English': 80, 'Maths': 86, 'Telugu': 87},\n",
            "                      'Name': 'Bhaskar'},\n",
            "                 20: {'Marks': {'English': 91, 'Maths': 93, 'Telugu': 86},\n",
            "                      'Name': 'Banti'},\n",
            "                 21: {'Marks': {'English': 97, 'Maths': 86, 'Telugu': 93},\n",
            "                      'Name': 'Ranjith'},\n",
            "                 22: {'Marks': {'English': 96, 'Maths': 89, 'Telugu': 74},\n",
            "                      'Name': 'Sanik'},\n",
            "                 23: {'Marks': {'English': 96, 'Maths': 87, 'Telugu': 99},\n",
            "                      'Name': 'Harish'},\n",
            "                 101: {'Marks': {'English': 99, 'Maths': 99, 'Telugu': 90},\n",
            "                       'Name': 'Hitesh'},\n",
            "                 102: {'Marks': {'English': 91, 'Maths': 93, 'Telugu': 97},\n",
            "                       'Name': 'Ayush'},\n",
            "                 103: {'Marks': {'English': 99, 'Maths': 89, 'Telugu': 89},\n",
            "                       'Name': 'Anant'},\n",
            "                 104: {'Marks': {'English': 74, 'Maths': 90, 'Telugu': 91},\n",
            "                       'Name': 'Shivam'},\n",
            "                 105: {'Marks': {'English': 99, 'Maths': 99, 'Telugu': 86},\n",
            "                       'Name': 'Hrishi'}},\n",
            "          'CSE': {17: {'Marks': {'English': 99, 'Maths': 80, 'Telugu': 90},\n",
            "                       'Name': 'Gangaram'},\n",
            "                  18: {'Marks': {'English': 99, 'Maths': 91, 'Telugu': 89},\n",
            "                       'Name': 'omkar'},\n",
            "                  19: {'Marks': {'English': 80, 'Maths': 86, 'Telugu': 90},\n",
            "                       'Name': 'Bhaskar'},\n",
            "                  20: {'Marks': {'English': 93, 'Maths': 99, 'Telugu': 86},\n",
            "                       'Name': 'Banti'},\n",
            "                  21: {'Marks': {'English': 87, 'Maths': 89, 'Telugu': 99},\n",
            "                       'Name': 'Ranjith'},\n",
            "                  22: {'Marks': {'English': 99, 'Maths': 80, 'Telugu': 96},\n",
            "                       'Name': 'Sanik'},\n",
            "                  23: {'Marks': {'English': 80, 'Maths': 97, 'Telugu': 96},\n",
            "                       'Name': 'Harish'},\n",
            "                  101: {'Marks': {'English': 87, 'Maths': 74, 'Telugu': 86},\n",
            "                        'Name': 'Hitesh'},\n",
            "                  102: {'Marks': {'English': 86, 'Maths': 99, 'Telugu': 97},\n",
            "                        'Name': 'Ayush'},\n",
            "                  103: {'Marks': {'English': 97, 'Maths': 89, 'Telugu': 99},\n",
            "                        'Name': 'Anant'},\n",
            "                  104: {'Marks': {'English': 96, 'Maths': 96, 'Telugu': 74},\n",
            "                        'Name': 'Shivam'},\n",
            "                  105: {'Marks': {'English': 99, 'Maths': 96, 'Telugu': 87},\n",
            "                        'Name': 'Hrishi'}},\n",
            "          'IT': {17: {'Marks': {'English': 89, 'Maths': 80, 'Telugu': 87},\n",
            "                      'Name': 'Gangaram'},\n",
            "                 18: {'Marks': {'English': 86, 'Maths': 96, 'Telugu': 87},\n",
            "                      'Name': 'omkar'},\n",
            "                 19: {'Marks': {'English': 74, 'Maths': 93, 'Telugu': 96},\n",
            "                      'Name': 'Bhaskar'},\n",
            "                 20: {'Marks': {'English': 96, 'Maths': 89, 'Telugu': 74},\n",
            "                      'Name': 'Banti'},\n",
            "                 21: {'Marks': {'English': 90, 'Maths': 74, 'Telugu': 99},\n",
            "                      'Name': 'Ranjith'},\n",
            "                 22: {'Marks': {'English': 74, 'Maths': 99, 'Telugu': 99},\n",
            "                      'Name': 'Sanik'},\n",
            "                 23: {'Marks': {'English': 90, 'Maths': 74, 'Telugu': 93},\n",
            "                      'Name': 'Harish'},\n",
            "                 101: {'Marks': {'English': 90, 'Maths': 99, 'Telugu': 80},\n",
            "                       'Name': 'Hitesh'},\n",
            "                 102: {'Marks': {'English': 96, 'Maths': 89, 'Telugu': 86},\n",
            "                       'Name': 'Ayush'},\n",
            "                 103: {'Marks': {'English': 96, 'Maths': 86, 'Telugu': 99},\n",
            "                       'Name': 'Anant'},\n",
            "                 104: {'Marks': {'English': 86, 'Maths': 96, 'Telugu': 97},\n",
            "                       'Name': 'Shivam'},\n",
            "                 105: {'Marks': {'English': 99, 'Maths': 86, 'Telugu': 90},\n",
            "                       'Name': 'Hrishi'}},\n",
            "          'MECH': {17: {'Marks': {'English': 86, 'Maths': 80, 'Telugu': 90},\n",
            "                        'Name': 'Gangaram'},\n",
            "                   18: {'Marks': {'English': 80, 'Maths': 97, 'Telugu': 90},\n",
            "                        'Name': 'omkar'},\n",
            "                   19: {'Marks': {'English': 87, 'Maths': 90, 'Telugu': 86},\n",
            "                        'Name': 'Bhaskar'},\n",
            "                   20: {'Marks': {'English': 74, 'Maths': 99, 'Telugu': 99},\n",
            "                        'Name': 'Banti'},\n",
            "                   21: {'Marks': {'English': 91, 'Maths': 87, 'Telugu': 89},\n",
            "                        'Name': 'Ranjith'},\n",
            "                   22: {'Marks': {'English': 91, 'Maths': 99, 'Telugu': 91},\n",
            "                        'Name': 'Sanik'},\n",
            "                   23: {'Marks': {'English': 99, 'Maths': 89, 'Telugu': 93},\n",
            "                        'Name': 'Harish'},\n",
            "                   101: {'Marks': {'English': 90, 'Maths': 91, 'Telugu': 80},\n",
            "                         'Name': 'Hitesh'},\n",
            "                   102: {'Marks': {'English': 87, 'Maths': 93, 'Telugu': 90},\n",
            "                         'Name': 'Ayush'},\n",
            "                   103: {'Marks': {'English': 97, 'Maths': 74, 'Telugu': 97},\n",
            "                         'Name': 'Anant'},\n",
            "                   104: {'Marks': {'English': 99, 'Maths': 91, 'Telugu': 90},\n",
            "                         'Name': 'Shivam'},\n",
            "                   105: {'Marks': {'English': 96, 'Maths': 99, 'Telugu': 97},\n",
            "                         'Name': 'Hrishi'}}},\n",
            " '2019': {'CE': {17: {'Marks': {'English': 87, 'Maths': 97, 'Telugu': 80},\n",
            "                      'Name': 'Gangaram'},\n",
            "                 18: {'Marks': {'English': 90, 'Maths': 96, 'Telugu': 89},\n",
            "                      'Name': 'omkar'},\n",
            "                 19: {'Marks': {'English': 80, 'Maths': 87, 'Telugu': 97},\n",
            "                      'Name': 'Bhaskar'},\n",
            "                 20: {'Marks': {'English': 90, 'Maths': 86, 'Telugu': 99},\n",
            "                      'Name': 'Banti'},\n",
            "                 21: {'Marks': {'English': 91, 'Maths': 99, 'Telugu': 86},\n",
            "                      'Name': 'Ranjith'},\n",
            "                 22: {'Marks': {'English': 91, 'Maths': 87, 'Telugu': 86},\n",
            "                      'Name': 'Sanik'},\n",
            "                 23: {'Marks': {'English': 96, 'Maths': 97, 'Telugu': 99},\n",
            "                      'Name': 'Harish'},\n",
            "                 101: {'Marks': {'English': 90, 'Maths': 90, 'Telugu': 99},\n",
            "                       'Name': 'Hitesh'},\n",
            "                 102: {'Marks': {'English': 91, 'Maths': 99, 'Telugu': 87},\n",
            "                       'Name': 'Ayush'},\n",
            "                 103: {'Marks': {'English': 86, 'Maths': 99, 'Telugu': 87},\n",
            "                       'Name': 'Anant'},\n",
            "                 104: {'Marks': {'English': 99, 'Maths': 91, 'Telugu': 86},\n",
            "                       'Name': 'Shivam'},\n",
            "                 105: {'Marks': {'English': 74, 'Maths': 87, 'Telugu': 80},\n",
            "                       'Name': 'Hrishi'}},\n",
            "          'CSE': {17: {'Marks': {'English': 91, 'Maths': 96, 'Telugu': 97},\n",
            "                       'Name': 'Gangaram'},\n",
            "                  18: {'Marks': {'English': 87, 'Maths': 86, 'Telugu': 74},\n",
            "                       'Name': 'omkar'},\n",
            "                  19: {'Marks': {'English': 87, 'Maths': 91, 'Telugu': 90},\n",
            "                       'Name': 'Bhaskar'},\n",
            "                  20: {'Marks': {'English': 91, 'Maths': 89, 'Telugu': 80},\n",
            "                       'Name': 'Banti'},\n",
            "                  21: {'Marks': {'English': 99, 'Maths': 99, 'Telugu': 80},\n",
            "                       'Name': 'Ranjith'},\n",
            "                  22: {'Marks': {'English': 96, 'Maths': 91, 'Telugu': 96},\n",
            "                       'Name': 'Sanik'},\n",
            "                  23: {'Marks': {'English': 80, 'Maths': 97, 'Telugu': 80},\n",
            "                       'Name': 'Harish'},\n",
            "                  101: {'Marks': {'English': 86, 'Maths': 99, 'Telugu': 80},\n",
            "                        'Name': 'Hitesh'},\n",
            "                  102: {'Marks': {'English': 90, 'Maths': 96, 'Telugu': 96},\n",
            "                        'Name': 'Ayush'},\n",
            "                  103: {'Marks': {'English': 86, 'Maths': 96, 'Telugu': 87},\n",
            "                        'Name': 'Anant'},\n",
            "                  104: {'Marks': {'English': 99, 'Maths': 86, 'Telugu': 87},\n",
            "                        'Name': 'Shivam'},\n",
            "                  105: {'Marks': {'English': 90, 'Maths': 99, 'Telugu': 93},\n",
            "                        'Name': 'Hrishi'}},\n",
            "          'IT': {17: {'Marks': {'English': 97, 'Maths': 86, 'Telugu': 74},\n",
            "                      'Name': 'Gangaram'},\n",
            "                 18: {'Marks': {'English': 91, 'Maths': 99, 'Telugu': 97},\n",
            "                      'Name': 'omkar'},\n",
            "                 19: {'Marks': {'English': 90, 'Maths': 87, 'Telugu': 99},\n",
            "                      'Name': 'Bhaskar'},\n",
            "                 20: {'Marks': {'English': 90, 'Maths': 89, 'Telugu': 86},\n",
            "                      'Name': 'Banti'},\n",
            "                 21: {'Marks': {'English': 87, 'Maths': 96, 'Telugu': 93},\n",
            "                      'Name': 'Ranjith'},\n",
            "                 22: {'Marks': {'English': 99, 'Maths': 74, 'Telugu': 97},\n",
            "                      'Name': 'Sanik'},\n",
            "                 23: {'Marks': {'English': 80, 'Maths': 89, 'Telugu': 89},\n",
            "                      'Name': 'Harish'},\n",
            "                 101: {'Marks': {'English': 89, 'Maths': 97, 'Telugu': 90},\n",
            "                       'Name': 'Hitesh'},\n",
            "                 102: {'Marks': {'English': 90, 'Maths': 87, 'Telugu': 86},\n",
            "                       'Name': 'Ayush'},\n",
            "                 103: {'Marks': {'English': 89, 'Maths': 99, 'Telugu': 87},\n",
            "                       'Name': 'Anant'},\n",
            "                 104: {'Marks': {'English': 99, 'Maths': 97, 'Telugu': 91},\n",
            "                       'Name': 'Shivam'},\n",
            "                 105: {'Marks': {'English': 97, 'Maths': 80, 'Telugu': 80},\n",
            "                       'Name': 'Hrishi'}},\n",
            "          'MECH': {17: {'Marks': {'English': 87, 'Maths': 97, 'Telugu': 99},\n",
            "                        'Name': 'Gangaram'},\n",
            "                   18: {'Marks': {'English': 91, 'Maths': 89, 'Telugu': 96},\n",
            "                        'Name': 'omkar'},\n",
            "                   19: {'Marks': {'English': 99, 'Maths': 99, 'Telugu': 99},\n",
            "                        'Name': 'Bhaskar'},\n",
            "                   20: {'Marks': {'English': 74, 'Maths': 86, 'Telugu': 91},\n",
            "                        'Name': 'Banti'},\n",
            "                   21: {'Marks': {'English': 96, 'Maths': 86, 'Telugu': 86},\n",
            "                        'Name': 'Ranjith'},\n",
            "                   22: {'Marks': {'English': 96, 'Maths': 99, 'Telugu': 91},\n",
            "                        'Name': 'Sanik'},\n",
            "                   23: {'Marks': {'English': 91, 'Maths': 89, 'Telugu': 90},\n",
            "                        'Name': 'Harish'},\n",
            "                   101: {'Marks': {'English': 74, 'Maths': 74, 'Telugu': 87},\n",
            "                         'Name': 'Hitesh'},\n",
            "                   102: {'Marks': {'English': 86, 'Maths': 93, 'Telugu': 74},\n",
            "                         'Name': 'Ayush'},\n",
            "                   103: {'Marks': {'English': 97, 'Maths': 97, 'Telugu': 74},\n",
            "                         'Name': 'Anant'},\n",
            "                   104: {'Marks': {'English': 97, 'Maths': 93, 'Telugu': 99},\n",
            "                         'Name': 'Shivam'},\n",
            "                   105: {'Marks': {'English': 93, 'Maths': 87, 'Telugu': 99},\n",
            "                         'Name': 'Hrishi'}}},\n",
            " '2020': {'CE': {17: {'Marks': {'English': 86, 'Maths': 74, 'Telugu': 99},\n",
            "                      'Name': 'Gangaram'},\n",
            "                 18: {'Marks': {'English': 97, 'Maths': 99, 'Telugu': 87},\n",
            "                      'Name': 'omkar'},\n",
            "                 19: {'Marks': {'English': 89, 'Maths': 89, 'Telugu': 87},\n",
            "                      'Name': 'Bhaskar'},\n",
            "                 20: {'Marks': {'English': 97, 'Maths': 99, 'Telugu': 90},\n",
            "                      'Name': 'Banti'},\n",
            "                 21: {'Marks': {'English': 90, 'Maths': 96, 'Telugu': 91},\n",
            "                      'Name': 'Ranjith'},\n",
            "                 22: {'Marks': {'English': 89, 'Maths': 90, 'Telugu': 93},\n",
            "                      'Name': 'Sanik'},\n",
            "                 23: {'Marks': {'English': 99, 'Maths': 96, 'Telugu': 86},\n",
            "                      'Name': 'Harish'},\n",
            "                 101: {'Marks': {'English': 93, 'Maths': 74, 'Telugu': 96},\n",
            "                       'Name': 'Hitesh'},\n",
            "                 102: {'Marks': {'English': 90, 'Maths': 93, 'Telugu': 99},\n",
            "                       'Name': 'Ayush'},\n",
            "                 103: {'Marks': {'English': 96, 'Maths': 93, 'Telugu': 74},\n",
            "                       'Name': 'Anant'},\n",
            "                 104: {'Marks': {'English': 80, 'Maths': 99, 'Telugu': 96},\n",
            "                       'Name': 'Shivam'},\n",
            "                 105: {'Marks': {'English': 89, 'Maths': 90, 'Telugu': 97},\n",
            "                       'Name': 'Hrishi'}},\n",
            "          'CSE': {17: {'Marks': {'English': 97, 'Maths': 74, 'Telugu': 89},\n",
            "                       'Name': 'Gangaram'},\n",
            "                  18: {'Marks': {'English': 80, 'Maths': 96, 'Telugu': 93},\n",
            "                       'Name': 'omkar'},\n",
            "                  19: {'Marks': {'English': 89, 'Maths': 93, 'Telugu': 91},\n",
            "                       'Name': 'Bhaskar'},\n",
            "                  20: {'Marks': {'English': 89, 'Maths': 99, 'Telugu': 91},\n",
            "                       'Name': 'Banti'},\n",
            "                  21: {'Marks': {'English': 74, 'Maths': 96, 'Telugu': 97},\n",
            "                       'Name': 'Ranjith'},\n",
            "                  22: {'Marks': {'English': 80, 'Maths': 87, 'Telugu': 97},\n",
            "                       'Name': 'Sanik'},\n",
            "                  23: {'Marks': {'English': 74, 'Maths': 99, 'Telugu': 96},\n",
            "                       'Name': 'Harish'},\n",
            "                  101: {'Marks': {'English': 80, 'Maths': 96, 'Telugu': 97},\n",
            "                        'Name': 'Hitesh'},\n",
            "                  102: {'Marks': {'English': 97, 'Maths': 96, 'Telugu': 87},\n",
            "                        'Name': 'Ayush'},\n",
            "                  103: {'Marks': {'English': 99, 'Maths': 86, 'Telugu': 99},\n",
            "                        'Name': 'Anant'},\n",
            "                  104: {'Marks': {'English': 86, 'Maths': 89, 'Telugu': 87},\n",
            "                        'Name': 'Shivam'},\n",
            "                  105: {'Marks': {'English': 99, 'Maths': 87, 'Telugu': 93},\n",
            "                        'Name': 'Hrishi'}},\n",
            "          'IT': {17: {'Marks': {'English': 99, 'Maths': 91, 'Telugu': 93},\n",
            "                      'Name': 'Gangaram'},\n",
            "                 18: {'Marks': {'English': 80, 'Maths': 90, 'Telugu': 90},\n",
            "                      'Name': 'omkar'},\n",
            "                 19: {'Marks': {'English': 91, 'Maths': 96, 'Telugu': 93},\n",
            "                      'Name': 'Bhaskar'},\n",
            "                 20: {'Marks': {'English': 80, 'Maths': 97, 'Telugu': 90},\n",
            "                      'Name': 'Banti'},\n",
            "                 21: {'Marks': {'English': 93, 'Maths': 99, 'Telugu': 80},\n",
            "                      'Name': 'Ranjith'},\n",
            "                 22: {'Marks': {'English': 86, 'Maths': 90, 'Telugu': 74},\n",
            "                      'Name': 'Sanik'},\n",
            "                 23: {'Marks': {'English': 87, 'Maths': 89, 'Telugu': 87},\n",
            "                      'Name': 'Harish'},\n",
            "                 101: {'Marks': {'English': 93, 'Maths': 93, 'Telugu': 86},\n",
            "                       'Name': 'Hitesh'},\n",
            "                 102: {'Marks': {'English': 93, 'Maths': 80, 'Telugu': 86},\n",
            "                       'Name': 'Ayush'},\n",
            "                 103: {'Marks': {'English': 87, 'Maths': 96, 'Telugu': 97},\n",
            "                       'Name': 'Anant'},\n",
            "                 104: {'Marks': {'English': 86, 'Maths': 93, 'Telugu': 86},\n",
            "                       'Name': 'Shivam'},\n",
            "                 105: {'Marks': {'English': 91, 'Maths': 80, 'Telugu': 99},\n",
            "                       'Name': 'Hrishi'}},\n",
            "          'MECH': {17: {'Marks': {'English': 74, 'Maths': 96, 'Telugu': 89},\n",
            "                        'Name': 'Gangaram'},\n",
            "                   18: {'Marks': {'English': 91, 'Maths': 96, 'Telugu': 89},\n",
            "                        'Name': 'omkar'},\n",
            "                   19: {'Marks': {'English': 93, 'Maths': 74, 'Telugu': 91},\n",
            "                        'Name': 'Bhaskar'},\n",
            "                   20: {'Marks': {'English': 99, 'Maths': 91, 'Telugu': 89},\n",
            "                        'Name': 'Banti'},\n",
            "                   21: {'Marks': {'English': 90, 'Maths': 90, 'Telugu': 87},\n",
            "                        'Name': 'Ranjith'},\n",
            "                   22: {'Marks': {'English': 93, 'Maths': 80, 'Telugu': 97},\n",
            "                        'Name': 'Sanik'},\n",
            "                   23: {'Marks': {'English': 74, 'Maths': 90, 'Telugu': 87},\n",
            "                        'Name': 'Harish'},\n",
            "                   101: {'Marks': {'English': 87, 'Maths': 80, 'Telugu': 89},\n",
            "                         'Name': 'Hitesh'},\n",
            "                   102: {'Marks': {'English': 90, 'Maths': 80, 'Telugu': 93},\n",
            "                         'Name': 'Ayush'},\n",
            "                   103: {'Marks': {'English': 97, 'Maths': 99, 'Telugu': 93},\n",
            "                         'Name': 'Anant'},\n",
            "                   104: {'Marks': {'English': 93, 'Maths': 91, 'Telugu': 93},\n",
            "                         'Name': 'Shivam'},\n",
            "                   105: {'Marks': {'English': 89, 'Maths': 91, 'Telugu': 87},\n",
            "                         'Name': 'Hrishi'}}}}\n"
          ]
        }
      ],
      "source": [
        "import numpy as np\n",
        "from pprint import pprint\n",
        "years = ['2017','2018','2019','2020']\n",
        "branches = ['CSE','IT','MECH','CE']\n",
        "students = [['Gangaram','omkar','Bhaskar','Banti','Ranjith','Sanik','Harish'],\n",
        "           ['Hitesh','Ayush','Anant','Shivam','Hrishi']]\n",
        "roll_no = [[17,18,19,20,21,22,23],\n",
        "          [101,102,103,104,105]]\n",
        "marks = [99,97,89,96,91,86,74,80,90,93,99,87]\n",
        "\n",
        "subjects = ['Telugu','English','Maths']\n",
        "students_info = {}\n",
        "for i in years:\n",
        "    students_info[i]={}\n",
        "    for j in branches:\n",
        "        students_info[i][j] = {}\n",
        "        for k in range(len(students)):\n",
        "            for l in range(len(students[k])):\n",
        "                students_info[i][j][roll_no[k][l]] = {}\n",
        "                students_info[i][j][roll_no[k][l]]['Name'] = students [k][l]\n",
        "                students_info[i][j][roll_no[k][l]]['Marks'] = {}\n",
        "                students_info[i][j][roll_no[k][l]]['Marks'][subjects[0]] = np.random.choice(marks)\n",
        "                students_info[i][j][roll_no[k][l]]['Marks'][subjects[1]] = np.random.choice(marks)\n",
        "                students_info[i][j][roll_no[k][l]]['Marks'][subjects[2]] = np.random.choice(marks)\n",
        "                \n",
        "pprint(students_info)            "
      ]
    },
    {
      "cell_type": "markdown",
      "id": "bee92fbb",
      "metadata": {
        "id": "bee92fbb"
      },
      "source": [
        "# 8. Store the same information using Python classes. We have an overall database which is a list of year objects. Each year contains a list of branches. Each branch contains a list of students. Each student has some properties like name, roll number and has marks in some subjects."
      ]
    },
    {
      "cell_type": "code",
      "execution_count": 15,
      "id": "f772b370",
      "metadata": {
        "colab": {
          "base_uri": "https://localhost:8080/"
        },
        "id": "f772b370",
        "outputId": "1ab3b3be-0737-4120-b101-8b30fda50115"
      },
      "outputs": [
        {
          "output_type": "stream",
          "name": "stdout",
          "text": [
            "IITGN\n",
            "     2017\n",
            "         CSE\n",
            "             Gangaram 17 {'English': 90, 'Maths': 90}\n",
            "             omkar 18 {'English': 89, 'Maths': 93}\n",
            "     2020\n",
            "         IT\n",
            "             Sanik 21 {'English': 96, 'Maths': 89}\n",
            "             Ranjith 25 {'English': 85, 'Maths': 91}\n",
            "     2018\n",
            "         MECH\n",
            "             banti 20 {'English': 95, 'Maths': 81}\n",
            "             Bhaskar 27 {'English': 88, 'Maths': 90}\n",
            "     2019\n",
            "         CE\n",
            "             Raju 23 {'English': 80, 'Maths': 91}\n",
            "             Ramu 20 {'English': 95, 'Maths': 91}\n"
          ]
        }
      ],
      "source": [
        "class student:\n",
        "    \n",
        "    def __init__(self,name,rollno,marks):\n",
        "        self.name = name\n",
        "        self.rollno=rollno\n",
        "        self.marks=marks\n",
        "        \n",
        "class branch:\n",
        "    def __init__(self,name):\n",
        "        self.name = name\n",
        "        self.stulist = []\n",
        "    def add_student(self,stu):\n",
        "        self.stulist.append(stu)\n",
        "\n",
        "class year:\n",
        "    def __init__(self,name):\n",
        "        self.name = name\n",
        "        self.branchlist=[]\n",
        "        \n",
        "    def add_branches(self,brnch):\n",
        "        self.branchlist.append(brnch)\n",
        "        \n",
        "class database:\n",
        "    def __init__(self,name):\n",
        "        self.name = name\n",
        "        self.yearlist = []\n",
        "        \n",
        "    def add_year(self,yr):\n",
        "        self.yearlist.append(yr)\n",
        "\n",
        "s1 = student('Gangaram', '17',{'English':90,'Maths':90})\n",
        "s2 = student('omkar','18',{'English':89,'Maths':93})\n",
        "s3 = student('Sanik','21',{'English':96,'Maths':89})\n",
        "s4 = student('Ranjith','25',{'English':85,'Maths':91})\n",
        "s5 = student('Bhaskar','27',{'English':88,'Maths':90})\n",
        "s6 = student('banti','20',{'English':95,'Maths':81})\n",
        "s7 = student('Raju','23',{'English':80,'Maths':91})\n",
        "s8 = student('Ramu','20',{'English':95,'Maths':91})\n",
        "\n",
        "b1=branch('CSE')\n",
        "b2=branch('IT')\n",
        "b3=branch('MECH')\n",
        "b4=branch(\"CE\")\n",
        "\n",
        "b1.add_student(s1)\n",
        "b1.add_student(s2)\n",
        "\n",
        "b2.add_student(s3)\n",
        "b2.add_student(s4)\n",
        "\n",
        "b3.add_student(s6)\n",
        "b3.add_student(s5)\n",
        "\n",
        "b4.add_student(s7)\n",
        "b4.add_student(s8)\n",
        "\n",
        "\n",
        "\n",
        "yr1 = year('2017')\n",
        "yr2 = year('2020')\n",
        "yr3 = year('2018')\n",
        "yr4=year('2019')\n",
        "\n",
        "yr1.add_branches(b1)\n",
        "yr2.add_branches(b2)\n",
        "yr3.add_branches(b3)\n",
        "yr4.add_branches(b4)\n",
        "\n",
        "db=database('IITGN')\n",
        "db.add_year(yr1)\n",
        "db.add_year(yr2)\n",
        "db.add_year(yr3)\n",
        "db.add_year(yr4)\n",
        "\n",
        "print(db.name)\n",
        "for i in db.yearlist:\n",
        "    print(\" \"*4,i.name)\n",
        "    for j in i.branchlist:\n",
        "        print(\" \"*8,j.name)\n",
        "        for k in j.stulist:\n",
        "            print(\" \"*12,k.name,k.rollno,k.marks)"
      ]
    },
    {
      "cell_type": "markdown",
      "id": "f0f454bd",
      "metadata": {
        "id": "f0f454bd"
      },
      "source": [
        "# 9.Using matplotlib plot the following functions on the domain: x = 0.5 to 100.0 in steps of 0.5"
      ]
    },
    {
      "cell_type": "markdown",
      "id": "f36c07dc",
      "metadata": {
        "id": "f36c07dc"
      },
      "source": [
        "![](Capture_1.PNG)"
      ]
    },
    {
      "cell_type": "code",
      "execution_count": 16,
      "id": "2658485a",
      "metadata": {
        "colab": {
          "base_uri": "https://localhost:8080/",
          "height": 295
        },
        "id": "2658485a",
        "outputId": "f7e8d8c2-3977-4615-953c-6b738ebe1ba4"
      },
      "outputs": [
        {
          "output_type": "display_data",
          "data": {
            "text/plain": [
              "<Figure size 432x288 with 1 Axes>"
            ],
            "image/png": "[encoded data removed]"
          },
          "metadata": {
            "needs_background": "light"
          }
        }
      ],
      "source": [
        "import matplotlib.pyplot as plt\n",
        "import numpy as np\n",
        "\n",
        "x = np.arange(0.5, 100.0, 0.5)\n",
        "\n",
        "y = x\n",
        "\n",
        "\n",
        "plt.plot(x, y)\n",
        "\n",
        "\n",
        "plt.title(\"y = x\")\n",
        "plt.xlabel(\"x\")\n",
        "plt.ylabel(\"y\")\n",
        "\n",
        "\n",
        "plt.show()\n"
      ]
    },
    {
      "cell_type": "code",
      "execution_count": 17,
      "id": "44875ad8",
      "metadata": {
        "colab": {
          "base_uri": "https://localhost:8080/",
          "height": 295
        },
        "id": "44875ad8",
        "outputId": "31c19eab-286a-4a24-f2e2-91aa055f8a33"
      },
      "outputs": [
        {
          "output_type": "display_data",
          "data": {
            "text/plain": [
              "<Figure size 432x288 with 1 Axes>"
            ],
            "image/png": "[encoded data removed]"
          },
          "metadata": {
            "needs_background": "light"
          }
        }
      ],
      "source": [
        "y = x**2\n",
        "\n",
        "\n",
        "plt.plot(x, y)\n",
        "\n",
        "\n",
        "plt.title(\"y = x^2\")\n",
        "plt.xlabel(\"x\")\n",
        "plt.ylabel(\"y\")\n",
        "\n",
        "\n",
        "plt.show()\n"
      ]
    },
    {
      "cell_type": "code",
      "execution_count": 18,
      "id": "a6188489",
      "metadata": {
        "colab": {
          "base_uri": "https://localhost:8080/",
          "height": 295
        },
        "id": "a6188489",
        "outputId": "eec3c42a-132f-47dd-f9dd-c4f916d37fde"
      },
      "outputs": [
        {
          "output_type": "display_data",
          "data": {
            "text/plain": [
              "<Figure size 432x288 with 1 Axes>"
            ],
            "image/png": "[encoded data removed]"
          },
          "metadata": {
            "needs_background": "light"
          }
        }
      ],
      "source": [
        "y = (x**3)/100\n",
        "\n",
        "\n",
        "plt.plot(x, y)\n",
        "\n",
        "\n",
        "plt.title(\"y = x^3 /100 \")\n",
        "plt.xlabel(\"x\")\n",
        "plt.ylabel(\"y\")\n",
        "\n",
        "\n",
        "plt.show()\n"
      ]
    },
    {
      "cell_type": "code",
      "execution_count": 19,
      "id": "c1a7690f",
      "metadata": {
        "colab": {
          "base_uri": "https://localhost:8080/",
          "height": 295
        },
        "id": "c1a7690f",
        "outputId": "e32e22a5-cc8d-4a17-a97c-03f355b55b6d"
      },
      "outputs": [
        {
          "output_type": "display_data",
          "data": {
            "text/plain": [
              "<Figure size 432x288 with 1 Axes>"
            ],
            "image/png": "[encoded data removed]"
          },
          "metadata": {
            "needs_background": "light"
          }
        }
      ],
      "source": [
        "y = np.sin(x)\n",
        "\n",
        "\n",
        "plt.plot(x, y)\n",
        "\n",
        "\n",
        "plt.title(\"y = sin(x)\")\n",
        "plt.xlabel(\"x\")\n",
        "plt.ylabel(\"y\")\n",
        "\n",
        "\n",
        "plt.show()"
      ]
    },
    {
      "cell_type": "code",
      "execution_count": 20,
      "id": "ef884e92",
      "metadata": {
        "colab": {
          "base_uri": "https://localhost:8080/",
          "height": 295
        },
        "id": "ef884e92",
        "outputId": "071f1c9c-cba9-41d2-d2e8-28373d03ab1c"
      },
      "outputs": [
        {
          "output_type": "display_data",
          "data": {
            "text/plain": [
              "<Figure size 432x288 with 1 Axes>"
            ],
            "image/png": "[encoded data removed]"
          },
          "metadata": {
            "needs_background": "light"
          }
        }
      ],
      "source": [
        "y = np.where(x == 0, 0, np.sin(x) / x)\n",
        "plt.plot(x, y)\n",
        "\n",
        "\n",
        "plt.title(\"y = sin(x)/x\")\n",
        "plt.xlabel(\"x\")\n",
        "plt.ylabel(\"y\")\n",
        "\n",
        "\n",
        "plt.show()"
      ]
    },
    {
      "cell_type": "code",
      "execution_count": 21,
      "id": "1627d845",
      "metadata": {
        "colab": {
          "base_uri": "https://localhost:8080/",
          "height": 295
        },
        "id": "1627d845",
        "outputId": "ee8aef8e-773a-45df-95c8-cad8d6bd7044"
      },
      "outputs": [
        {
          "output_type": "display_data",
          "data": {
            "text/plain": [
              "<Figure size 432x288 with 1 Axes>"
            ],
            "image/png": "[encoded data removed]"
          },
          "metadata": {
            "needs_background": "light"
          }
        }
      ],
      "source": [
        "y = np.log(x)\n",
        "\n",
        "\n",
        "plt.plot(x, y)\n",
        "\n",
        "\n",
        "plt.title(\"y = log(x)\")\n",
        "plt.xlabel(\"x\")\n",
        "plt.ylabel(\"y\")\n",
        "\n",
        "\n",
        "plt.show()"
      ]
    },
    {
      "cell_type": "code",
      "execution_count": 22,
      "id": "9bfe566a",
      "metadata": {
        "colab": {
          "base_uri": "https://localhost:8080/",
          "height": 295
        },
        "id": "9bfe566a",
        "outputId": "39e4d8fc-ef54-4b9f-93c5-2614b5e4d5f7"
      },
      "outputs": [
        {
          "output_type": "display_data",
          "data": {
            "text/plain": [
              "<Figure size 432x288 with 1 Axes>"
            ],
            "image/png": "[encoded data removed]"
          },
          "metadata": {
            "needs_background": "light"
          }
        }
      ],
      "source": [
        "y = np.exp(x)\n",
        "\n",
        "\n",
        "plt.plot(x, y)\n",
        "\n",
        "\n",
        "plt.title(\"y = e^x\")\n",
        "plt.xlabel(\"x\")\n",
        "plt.ylabel(\"y\")\n",
        "\n",
        "\n",
        "plt.show()"
      ]
    },
    {
      "cell_type": "markdown",
      "id": "44fcd72f",
      "metadata": {
        "id": "44fcd72f"
      },
      "source": [
        "# 10. Using numpy generate a matrix of size 20X5 containing random numbers drawn uniformly from the range of 1 to 2. Using Pandas create a dataframe out of this matrix. Name the columns of the dataframe as “a”, “b”, “c”, “d”, “e”. Find the column with the highest standard deviation. Find the row with the lowest mean."
      ]
    },
    {
      "cell_type": "code",
      "execution_count": 23,
      "id": "c7211b99",
      "metadata": {
        "colab": {
          "base_uri": "https://localhost:8080/"
        },
        "id": "c7211b99",
        "outputId": "1e2afebb-74a2-412c-d6cc-a83062cc2026"
      },
      "outputs": [
        {
          "output_type": "stream",
          "name": "stdout",
          "text": [
            "The Column with the Highest Standard Deviation is -> a\n",
            "The Row with the Lowest Mean is -> 11.0\n"
          ]
        }
      ],
      "source": [
        "import numpy as np\n",
        "import pandas as pd\n",
        "\n",
        "mat = np.random.rand(20, 5)\n",
        "mat = 1 + mat\n",
        " \n",
        "df = pd.DataFrame(mat, columns = ['a','b','c', 'd', 'e'])\n",
        "\n",
        "z = pd.DataFrame(df.std())\n",
        "z[\"Column\"] = z.index\n",
        "print(\"The Column with the Highest Standard Deviation is -> \" + z.loc[z[0].idxmax()][\"Column\"])\n",
        "\n",
        "df['mean'] = df.mean(axis=1)\n",
        "df['index'] = df.index\n",
        "print(\"The Row with the Lowest Mean is -> \" + str(df.loc[df[\"mean\"].idxmin()][\"index\"]))"
      ]
    },
    {
      "cell_type": "markdown",
      "id": "966ddacd",
      "metadata": {
        "id": "966ddacd"
      },
      "source": [
        "# 11. Add a new column to the dataframe called “f” which is the sum of the columns “a”, “b”, “c”, “d”, “e”. Create another column called “g”. The value in the column “g” should be “LT8” if the value in the column “f” is less than 8 and “GT8” otherwise. Find the number of rows in the dataframe where the value in the column “g” is “LT8”. Find the standard deviation of the column “f” for the rows where the value in the column “g” is “LT8” and “GT8” respectively."
      ]
    },
    {
      "cell_type": "code",
      "execution_count": 24,
      "id": "da81ada7",
      "metadata": {
        "colab": {
          "base_uri": "https://localhost:8080/",
          "height": 780
        },
        "id": "da81ada7",
        "outputId": "9b4f0c47-6761-45a0-9550-0d0027036ba1"
      },
      "outputs": [
        {
          "output_type": "stream",
          "name": "stderr",
          "text": [
            "<ipython-input-24-9bb324199fb5>:2: SettingWithCopyWarning: \n",
            "A value is trying to be set on a copy of a slice from a DataFrame.\n",
            "Try using .loc[row_indexer,col_indexer] = value instead\n",
            "\n",
            "See the caveats in the documentation: https://pandas.pydata.org/pandas-docs/stable/user_guide/indexing.html#returning-a-view-versus-a-copy\n",
            "  df['f'] = df.sum(axis=1)\n"
          ]
        },
        {
          "output_type": "execute_result",
          "data": {
            "text/plain": [
              "           a         b         c         d         e         f    g\n",
              "0   1.063519  1.821755  1.015592  1.434895  1.372075  6.707835  LT8\n",
              "1   1.089271  1.655729  1.381962  1.320963  1.418282  6.866207  LT8\n",
              "2   1.159112  1.045167  1.854682  1.706683  1.381907  7.147551  LT8\n",
              "3   1.299721  1.736043  1.587643  1.252389  1.437409  7.313203  LT8\n",
              "4   1.813604  1.028213  1.603289  1.359544  1.321914  7.126565  LT8\n",
              "5   1.739914  1.443744  1.125645  1.036796  1.301000  6.647099  LT8\n",
              "6   1.259236  1.436014  1.723795  1.937954  1.363847  7.720846  LT8\n",
              "7   1.979251  1.793507  1.211551  1.617277  1.089997  7.691582  LT8\n",
              "8   1.695132  1.922532  1.752869  1.905448  1.759037  9.035018  GT8\n",
              "9   1.190877  1.232198  1.522764  1.603366  1.857627  7.406831  LT8\n",
              "10  1.436089  1.616374  1.100371  1.795275  1.354959  7.303068  LT8\n",
              "11  1.017449  1.496274  1.230416  1.454855  1.246661  6.445655  LT8\n",
              "12  1.376532  1.652734  1.063205  1.912497  1.213306  7.218275  LT8\n",
              "13  1.753464  1.564670  1.555916  1.645075  1.068623  7.587748  LT8\n",
              "14  1.206633  1.464407  1.843114  1.904740  1.790521  8.209414  GT8\n",
              "15  1.929878  1.411975  1.220717  1.869930  1.961534  8.394034  GT8\n",
              "16  1.189363  1.247609  1.364181  1.217407  1.825177  6.843737  LT8\n",
              "17  1.845239  1.942193  1.589239  1.058909  1.810857  8.246437  GT8\n",
              "18  1.215179  1.926552  1.410104  1.178479  1.082331  6.812645  LT8\n",
              "19  1.359171  1.246643  1.046494  1.927234  1.382229  6.961770  LT8"
            ],
            "text/html": [
              "\n",
              "  <div id=\"df-f525fce2-bde2-48a9-b274-79869c143701\">\n",
              "    <div class=\"colab-df-container\">\n",
              "      <div>\n",
              "<style scoped>\n",
              "    .dataframe tbody tr th:only-of-type {\n",
              "        vertical-align: middle;\n",
              "    }\n",
              "\n",
              "    .dataframe tbody tr th {\n",
              "        vertical-align: top;\n",
              "    }\n",
              "\n",
              "    .dataframe thead th {\n",
              "        text-align: right;\n",
              "    }\n",
              "</style>\n",
              "<table border=\"1\" class=\"dataframe\">\n",
              "  <thead>\n",
              "    <tr style=\"text-align: right;\">\n",
              "      <th></th>\n",
              "      <th>a</th>\n",
              "      <th>b</th>\n",
              "      <th>c</th>\n",
              "      <th>d</th>\n",
              "      <th>e</th>\n",
              "      <th>f</th>\n",
              "      <th>g</th>\n",
              "    </tr>\n",
              "  </thead>\n",
              "  <tbody>\n",
              "    <tr>\n",
              "      <th>0</th>\n",
              "      <td>1.063519</td>\n",
              "      <td>1.821755</td>\n",
              "      <td>1.015592</td>\n",
              "      <td>1.434895</td>\n",
              "      <td>1.372075</td>\n",
              "      <td>6.707835</td>\n",
              "      <td>LT8</td>\n",
              "    </tr>\n",
              "    <tr>\n",
              "      <th>1</th>\n",
              "      <td>1.089271</td>\n",
              "      <td>1.655729</td>\n",
              "      <td>1.381962</td>\n",
              "      <td>1.320963</td>\n",
              "      <td>1.418282</td>\n",
              "      <td>6.866207</td>\n",
              "      <td>LT8</td>\n",
              "    </tr>\n",
              "    <tr>\n",
              "      <th>2</th>\n",
              "      <td>1.159112</td>\n",
              "      <td>1.045167</td>\n",
              "      <td>1.854682</td>\n",
              "      <td>1.706683</td>\n",
              "      <td>1.381907</td>\n",
              "      <td>7.147551</td>\n",
              "      <td>LT8</td>\n",
              "    </tr>\n",
              "    <tr>\n",
              "      <th>3</th>\n",
              "      <td>1.299721</td>\n",
              "      <td>1.736043</td>\n",
              "      <td>1.587643</td>\n",
              "      <td>1.252389</td>\n",
              "      <td>1.437409</td>\n",
              "      <td>7.313203</td>\n",
              "      <td>LT8</td>\n",
              "    </tr>\n",
              "    <tr>\n",
              "      <th>4</th>\n",
              "      <td>1.813604</td>\n",
              "      <td>1.028213</td>\n",
              "      <td>1.603289</td>\n",
              "      <td>1.359544</td>\n",
              "      <td>1.321914</td>\n",
              "      <td>7.126565</td>\n",
              "      <td>LT8</td>\n",
              "    </tr>\n",
              "    <tr>\n",
              "      <th>5</th>\n",
              "      <td>1.739914</td>\n",
              "      <td>1.443744</td>\n",
              "      <td>1.125645</td>\n",
              "      <td>1.036796</td>\n",
              "      <td>1.301000</td>\n",
              "      <td>6.647099</td>\n",
              "      <td>LT8</td>\n",
              "    </tr>\n",
              "    <tr>\n",
              "      <th>6</th>\n",
              "      <td>1.259236</td>\n",
              "      <td>1.436014</td>\n",
              "      <td>1.723795</td>\n",
              "      <td>1.937954</td>\n",
              "      <td>1.363847</td>\n",
              "      <td>7.720846</td>\n",
              "      <td>LT8</td>\n",
              "    </tr>\n",
              "    <tr>\n",
              "      <th>7</th>\n",
              "      <td>1.979251</td>\n",
              "      <td>1.793507</td>\n",
              "      <td>1.211551</td>\n",
              "      <td>1.617277</td>\n",
              "      <td>1.089997</td>\n",
              "      <td>7.691582</td>\n",
              "      <td>LT8</td>\n",
              "    </tr>\n",
              "    <tr>\n",
              "      <th>8</th>\n",
              "      <td>1.695132</td>\n",
              "      <td>1.922532</td>\n",
              "      <td>1.752869</td>\n",
              "      <td>1.905448</td>\n",
              "      <td>1.759037</td>\n",
              "      <td>9.035018</td>\n",
              "      <td>GT8</td>\n",
              "    </tr>\n",
              "    <tr>\n",
              "      <th>9</th>\n",
              "      <td>1.190877</td>\n",
              "      <td>1.232198</td>\n",
              "      <td>1.522764</td>\n",
              "      <td>1.603366</td>\n",
              "      <td>1.857627</td>\n",
              "      <td>7.406831</td>\n",
              "      <td>LT8</td>\n",
              "    </tr>\n",
              "    <tr>\n",
              "      <th>10</th>\n",
              "      <td>1.436089</td>\n",
              "      <td>1.616374</td>\n",
              "      <td>1.100371</td>\n",
              "      <td>1.795275</td>\n",
              "      <td>1.354959</td>\n",
              "      <td>7.303068</td>\n",
              "      <td>LT8</td>\n",
              "    </tr>\n",
              "    <tr>\n",
              "      <th>11</th>\n",
              "      <td>1.017449</td>\n",
              "      <td>1.496274</td>\n",
              "      <td>1.230416</td>\n",
              "      <td>1.454855</td>\n",
              "      <td>1.246661</td>\n",
              "      <td>6.445655</td>\n",
              "      <td>LT8</td>\n",
              "    </tr>\n",
              "    <tr>\n",
              "      <th>12</th>\n",
              "      <td>1.376532</td>\n",
              "      <td>1.652734</td>\n",
              "      <td>1.063205</td>\n",
              "      <td>1.912497</td>\n",
              "      <td>1.213306</td>\n",
              "      <td>7.218275</td>\n",
              "      <td>LT8</td>\n",
              "    </tr>\n",
              "    <tr>\n",
              "      <th>13</th>\n",
              "      <td>1.753464</td>\n",
              "      <td>1.564670</td>\n",
              "      <td>1.555916</td>\n",
              "      <td>1.645075</td>\n",
              "      <td>1.068623</td>\n",
              "      <td>7.587748</td>\n",
              "      <td>LT8</td>\n",
              "    </tr>\n",
              "    <tr>\n",
              "      <th>14</th>\n",
              "      <td>1.206633</td>\n",
              "      <td>1.464407</td>\n",
              "      <td>1.843114</td>\n",
              "      <td>1.904740</td>\n",
              "      <td>1.790521</td>\n",
              "      <td>8.209414</td>\n",
              "      <td>GT8</td>\n",
              "    </tr>\n",
              "    <tr>\n",
              "      <th>15</th>\n",
              "      <td>1.929878</td>\n",
              "      <td>1.411975</td>\n",
              "      <td>1.220717</td>\n",
              "      <td>1.869930</td>\n",
              "      <td>1.961534</td>\n",
              "      <td>8.394034</td>\n",
              "      <td>GT8</td>\n",
              "    </tr>\n",
              "    <tr>\n",
              "      <th>16</th>\n",
              "      <td>1.189363</td>\n",
              "      <td>1.247609</td>\n",
              "      <td>1.364181</td>\n",
              "      <td>1.217407</td>\n",
              "      <td>1.825177</td>\n",
              "      <td>6.843737</td>\n",
              "      <td>LT8</td>\n",
              "    </tr>\n",
              "    <tr>\n",
              "      <th>17</th>\n",
              "      <td>1.845239</td>\n",
              "      <td>1.942193</td>\n",
              "      <td>1.589239</td>\n",
              "      <td>1.058909</td>\n",
              "      <td>1.810857</td>\n",
              "      <td>8.246437</td>\n",
              "      <td>GT8</td>\n",
              "    </tr>\n",
              "    <tr>\n",
              "      <th>18</th>\n",
              "      <td>1.215179</td>\n",
              "      <td>1.926552</td>\n",
              "      <td>1.410104</td>\n",
              "      <td>1.178479</td>\n",
              "      <td>1.082331</td>\n",
              "      <td>6.812645</td>\n",
              "      <td>LT8</td>\n",
              "    </tr>\n",
              "    <tr>\n",
              "      <th>19</th>\n",
              "      <td>1.359171</td>\n",
              "      <td>1.246643</td>\n",
              "      <td>1.046494</td>\n",
              "      <td>1.927234</td>\n",
              "      <td>1.382229</td>\n",
              "      <td>6.961770</td>\n",
              "      <td>LT8</td>\n",
              "    </tr>\n",
              "  </tbody>\n",
              "</table>\n",
              "</div>\n",
              "      <button class=\"colab-df-convert\" onclick=\"convertToInteractive('df-f525fce2-bde2-48a9-b274-79869c143701')\"\n",
              "              title=\"Convert this dataframe to an interactive table.\"\n",
              "              style=\"display:none;\">\n",
              "        \n",
              "  <svg xmlns=\"http://www.w3.org/2000/svg\" height=\"24px\"viewBox=\"0 0 24 24\"\n",
              "       width=\"24px\">\n",
              "    <path d=\"M0 0h24v24H0V0z\" fill=\"none\"/>\n",
              "    <path d=\"M18.56 5.44l.94 2.06.94-2.06 2.06-.94-2.06-.94-.94-2.06-.94 2.06-2.06.94zm-11 1L8.5 8.5l.94-2.06 2.06-.94-2.06-.94L8.5 2.5l-.94 2.06-2.06.94zm10 10l.94 2.06.94-2.06 2.06-.94-2.06-.94-.94-2.06-.94 2.06-2.06.94z\"/><path d=\"M17.41 7.96l-1.37-1.37c-.4-.4-.92-.59-1.43-.59-.52 0-1.04.2-1.43.59L10.3 9.45l-7.72 7.72c-.78.78-.78 2.05 0 2.83L4 21.41c.39.39.9.59 1.41.59.51 0 1.02-.2 1.41-.59l7.78-7.78 2.81-2.81c.8-.78.8-2.07 0-2.86zM5.41 20L4 18.59l7.72-7.72 1.47 1.35L5.41 20z\"/>\n",
              "  </svg>\n",
              "      </button>\n",
              "      \n",
              "  <style>\n",
              "    .colab-df-container {\n",
              "      display:flex;\n",
              "      flex-wrap:wrap;\n",
              "      gap: 12px;\n",
              "    }\n",
              "\n",
              "    .colab-df-convert {\n",
              "      background-color: #E8F0FE;\n",
              "      border: none;\n",
              "      border-radius: 50%;\n",
              "      cursor: pointer;\n",
              "      display: none;\n",
              "      fill: #1967D2;\n",
              "      height: 32px;\n",
              "      padding: 0 0 0 0;\n",
              "      width: 32px;\n",
              "    }\n",
              "\n",
              "    .colab-df-convert:hover {\n",
              "      background-color: #E2EBFA;\n",
              "      box-shadow: 0px 1px 2px rgba(60, 64, 67, 0.3), 0px 1px 3px 1px rgba(60, 64, 67, 0.15);\n",
              "      fill: #174EA6;\n",
              "    }\n",
              "\n",
              "    [theme=dark] .colab-df-convert {\n",
              "      background-color: #3B4455;\n",
              "      fill: #D2E3FC;\n",
              "    }\n",
              "\n",
              "    [theme=dark] .colab-df-convert:hover {\n",
              "      background-color: #434B5C;\n",
              "      box-shadow: 0px 1px 3px 1px rgba(0, 0, 0, 0.15);\n",
              "      filter: drop-shadow(0px 1px 2px rgba(0, 0, 0, 0.3));\n",
              "      fill: #FFFFFF;\n",
              "    }\n",
              "  </style>\n",
              "\n",
              "      <script>\n",
              "        const buttonEl =\n",
              "          document.querySelector('#df-f525fce2-bde2-48a9-b274-79869c143701 button.colab-df-convert');\n",
              "        buttonEl.style.display =\n",
              "          google.colab.kernel.accessAllowed ? 'block' : 'none';\n",
              "\n",
              "        async function convertToInteractive(key) {\n",
              "          const element = document.querySelector('#df-f525fce2-bde2-48a9-b274-79869c143701');\n",
              "          const dataTable =\n",
              "            await google.colab.kernel.invokeFunction('convertToInteractive',\n",
              "                                                     [key], {});\n",
              "          if (!dataTable) return;\n",
              "\n",
              "          const docLinkHtml = 'Like what you see? Visit the ' +\n",
              "            '<a target=\"_blank\" href=https://colab.research.google.com/notebooks/data_table.ipynb>data table notebook</a>'\n",
              "            + ' to learn more about interactive tables.';\n",
              "          element.innerHTML = '';\n",
              "          dataTable['output_type'] = 'display_data';\n",
              "          await google.colab.output.renderOutput(dataTable, element);\n",
              "          const docLink = document.createElement('div');\n",
              "          docLink.innerHTML = docLinkHtml;\n",
              "          element.appendChild(docLink);\n",
              "        }\n",
              "      </script>\n",
              "    </div>\n",
              "  </div>\n",
              "  "
            ]
          },
          "metadata": {},
          "execution_count": 24
        }
      ],
      "source": [
        "df = df[['a','b','c', 'd', 'e']]\n",
        "df['f'] = df.sum(axis=1)\n",
        "df['g'] = df['f'].apply(lambda x: (\"LT8\" if x < 8 else \"GT8\"))\n",
        "df"
      ]
    },
    {
      "cell_type": "markdown",
      "id": "027b837e",
      "metadata": {
        "id": "027b837e"
      },
      "source": [
        "# 12. Write a small piece of code to explain broadcasting in numpy."
      ]
    },
    {
      "cell_type": "raw",
      "id": "4d306c3d",
      "metadata": {
        "id": "4d306c3d"
      },
      "source": [
        ":The term broadcasting describes how NumPy treats arrays with different shapes during arithmetic operations. Subject to certain constraints, the smaller array is “broadcast” across the larger array so that they have compatible shapes. Broadcasting provides a means of vectorizing array operations so that looping occurs in C instead of Python. It does this without making needless copies of data and usually leads to efficient algorithm implementations"
      ]
    },
    {
      "cell_type": "code",
      "execution_count": 25,
      "id": "036df9f1",
      "metadata": {
        "colab": {
          "base_uri": "https://localhost:8080/"
        },
        "id": "036df9f1",
        "outputId": "aeef1719-a31e-4865-e970-9ed10e6614f1"
      },
      "outputs": [
        {
          "output_type": "execute_result",
          "data": {
            "text/plain": [
              "array([2., 4., 6.])"
            ]
          },
          "metadata": {},
          "execution_count": 25
        }
      ],
      "source": [
        "a = np.array([1.0, 2.0, 3.0])\n",
        "b = np.array([2.0, 2.0, 2.0])\n",
        "a * b"
      ]
    },
    {
      "cell_type": "raw",
      "id": "5a4da6d7",
      "metadata": {
        "id": "5a4da6d7"
      },
      "source": [
        "NumPy’s broadcasting rule relaxes this constraint when the arrays’ shapes meet certain constraints. The simplest broadcasting example occurs when an array and a scalar value are combined in an operation:"
      ]
    },
    {
      "cell_type": "code",
      "execution_count": 26,
      "id": "fbe9945d",
      "metadata": {
        "colab": {
          "base_uri": "https://localhost:8080/"
        },
        "id": "fbe9945d",
        "outputId": "24912848-f351-452e-d236-0e1aef298445"
      },
      "outputs": [
        {
          "output_type": "execute_result",
          "data": {
            "text/plain": [
              "array([2., 4., 6.])"
            ]
          },
          "metadata": {},
          "execution_count": 26
        }
      ],
      "source": [
        "a = np.array([1.0, 2.0, 3.0])\n",
        "b = 2.0\n",
        "a * b"
      ]
    },
    {
      "cell_type": "markdown",
      "id": "b6e83275",
      "metadata": {
        "id": "b6e83275"
      },
      "source": [
        "# 13. Write a function to compute the argmin of a numpy array. The function should take a numpy array as input and return the index of the minimum element. You can use the np.argmin function to verify your solution."
      ]
    },
    {
      "cell_type": "code",
      "execution_count": 27,
      "id": "3d09e164",
      "metadata": {
        "colab": {
          "base_uri": "https://localhost:8080/"
        },
        "id": "3d09e164",
        "outputId": "63b1d40a-8a36-4a40-e0ed-273295dc822b"
      },
      "outputs": [
        {
          "output_type": "stream",
          "name": "stdout",
          "text": [
            "[[64 35 60 37]\n",
            " [61 47 28 65]\n",
            " [21 54 34 76]\n",
            " [21 33 64 76]]\n",
            "8\n",
            "8\n"
          ]
        }
      ],
      "source": [
        "import numpy as np\n",
        "array = np.random.randint(1,100, size=(4,4))\n",
        "def fun(array):\n",
        "  x = list(array.flatten())\n",
        "  print(x.index(min(x)))\n",
        "print(array)\n",
        "fun(array)\n",
        "\n",
        "print(np.argmin(array))"
      ]
    }
  ],
  "metadata": {
    "kernelspec": {
      "display_name": "Python 3 (ipykernel)",
      "language": "python",
      "name": "python3"
    },
    "language_info": {
      "codemirror_mode": {
        "name": "ipython",
        "version": 3
      },
      "file_extension": ".py",
      "mimetype": "text/x-python",
      "name": "python",
      "nbconvert_exporter": "python",
      "pygments_lexer": "ipython3",
      "version": "3.11.0"
    },
    "colab": {
      "provenance": []
    }
  },
  "nbformat": 4,
  "nbformat_minor": 5
}